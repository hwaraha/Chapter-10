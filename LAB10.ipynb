{
  "nbformat": 4,
  "nbformat_minor": 0,
  "metadata": {
    "colab": {
      "provenance": [],
      "authorship_tag": "ABX9TyMXfw64tXtRmD3PQU0/dGVw",
      "include_colab_link": true
    },
    "kernelspec": {
      "name": "python3",
      "display_name": "Python 3"
    },
    "language_info": {
      "name": "python"
    }
  },
  "cells": [
    {
      "cell_type": "markdown",
      "metadata": {
        "id": "view-in-github",
        "colab_type": "text"
      },
      "source": [
        "<a href=\"https://colab.research.google.com/github/hwaraha/Chapter-10/blob/main/LAB10.ipynb\" target=\"_parent\"><img src=\"https://colab.research.google.com/assets/colab-badge.svg\" alt=\"Open In Colab\"/></a>"
      ]
    },
    {
      "cell_type": "code",
      "source": [
        "#LAB 10-1\n",
        "#1\n",
        "def sub(x, y):\n",
        "  return x - y\n",
        "print(\"200 - 100 = \", sub(200, 100))"
      ],
      "metadata": {
        "id": "1pBP5ZiaFUBZ"
      },
      "execution_count": null,
      "outputs": []
    },
    {
      "cell_type": "code",
      "source": [
        "#2\n",
        "sub = lambda x , y: x -y\n",
        "print(\"200 - 100 = \", sub(200, 100))"
      ],
      "metadata": {
        "id": "VAz9fwGdFY8l"
      },
      "execution_count": null,
      "outputs": []
    },
    {
      "cell_type": "code",
      "source": [
        "#LAB 10-2\n",
        "#1\n",
        "n_list = [1,2,3,4,5,6,7,8,9,10]\n",
        "def even_func(x):\n",
        "  if x % 2 == 0:\n",
        "    return True\n",
        "  else:\n",
        "    return False\n",
        "\n",
        "even_list = []\n",
        "for x in filter(even_func, n_list):\n",
        "  even_list.append(x)\n",
        "print(\"even_list = \", even_list)"
      ],
      "metadata": {
        "colab": {
          "base_uri": "https://localhost:8080/"
        },
        "id": "__Lj1lPxFdjA",
        "outputId": "6f2bd5b9-8786-4524-87ef-8549f70b60aa"
      },
      "execution_count": null,
      "outputs": [
        {
          "output_type": "stream",
          "name": "stdout",
          "text": [
            "even_list =  [2, 4, 6, 8, 10]\n"
          ]
        }
      ]
    },
    {
      "cell_type": "code",
      "source": [
        "#2\n",
        "n_list = [1,2,3,4,5,6,7,8,9,10]\n",
        "def odd_func(x):\n",
        "  if x % 2 != 0:\n",
        "    return True\n",
        "  else:\n",
        "    return False\n",
        "\n",
        "odd_list = []\n",
        "for x in filter(odd_func, n_list):\n",
        "  odd_list.append(x)\n",
        "print('odd_list = ', odd_list)\n"
      ],
      "metadata": {
        "colab": {
          "base_uri": "https://localhost:8080/"
        },
        "id": "DXZC44J_MKQl",
        "outputId": "c5f1cff4-c76e-4d5d-f39d-b646dd82cd86"
      },
      "execution_count": null,
      "outputs": [
        {
          "output_type": "stream",
          "name": "stdout",
          "text": [
            "odd_list =  [1, 3, 5, 7, 9]\n"
          ]
        }
      ]
    },
    {
      "cell_type": "code",
      "source": [
        "#LAB 10-3\n",
        "#1\n",
        "a_list = ['a','b','c','d']\n",
        "square_a = list(map(lambda x: x.upper(), a_list)) \n",
        "print(square_a)\n"
      ],
      "metadata": {
        "colab": {
          "base_uri": "https://localhost:8080/"
        },
        "id": "vmo5FfAJNUn_",
        "outputId": "42e4d46f-d9f3-4aa4-a9b1-b6de589ff057"
      },
      "execution_count": null,
      "outputs": [
        {
          "output_type": "stream",
          "name": "stdout",
          "text": [
            "['A', 'B', 'C', 'D']\n"
          ]
        }
      ]
    },
    {
      "cell_type": "code",
      "source": [
        "#2\n",
        "n_list = [10,20,30]\n",
        "twice_n = list(map(lambda x: x*2, n_list))\n",
        "print(twice_n)"
      ],
      "metadata": {
        "colab": {
          "base_uri": "https://localhost:8080/"
        },
        "id": "n204OAkuPF36",
        "outputId": "f849bde7-d262-4aca-f159-1db612fbc76f"
      },
      "execution_count": null,
      "outputs": [
        {
          "output_type": "stream",
          "name": "stdout",
          "text": [
            "[20, 40, 60]\n"
          ]
        }
      ]
    },
    {
      "cell_type": "code",
      "source": [
        "#3\n",
        "n_list = [10,20,30]\n",
        "triple_n = list(map(lambda x: x*3, n_list))\n",
        "print(triple_n)"
      ],
      "metadata": {
        "colab": {
          "base_uri": "https://localhost:8080/"
        },
        "id": "8IIQzRnZPF1G",
        "outputId": "0fcc6ad7-9073-4801-cd70-ee411c830acb"
      },
      "execution_count": null,
      "outputs": [
        {
          "output_type": "stream",
          "name": "stdout",
          "text": [
            "[30, 60, 90]\n"
          ]
        }
      ]
    },
    {
      "cell_type": "code",
      "source": [
        "#LAB 10-4\n",
        "#1\n",
        "a = [x for x in range(1, 101)]\n",
        "print(a)\n",
        "from functools import reduce\n",
        "n = reduce(lambda x, y: x + y, a)\n",
        "print(\"1에서 100까지의 합 : \", n)"
      ],
      "metadata": {
        "id": "wJasJWJ6PFqs"
      },
      "execution_count": null,
      "outputs": []
    },
    {
      "cell_type": "code",
      "source": [
        "#2\n",
        "a = [x for x in range(1, 11)]\n",
        "from functools import reduce\n",
        "n = reduce(lambda x, y: x*y, a)\n",
        "print(\"10! = \", n)"
      ],
      "metadata": {
        "colab": {
          "base_uri": "https://localhost:8080/"
        },
        "id": "j3D6U-TcU1pI",
        "outputId": "23de6f1d-a9de-4a8d-8a8c-92199caca3dc"
      },
      "execution_count": null,
      "outputs": [
        {
          "output_type": "stream",
          "name": "stdout",
          "text": [
            "10! =  3628800\n"
          ]
        }
      ]
    },
    {
      "cell_type": "code",
      "source": [
        "#LAB 10-5\n",
        "#1\n",
        "cubic = [1,2,3,4,5,6,7,8,9,10]\n",
        "cubic = list(map(lambda x:x**3, cubic))\n",
        "print(cubic)\n"
      ],
      "metadata": {
        "colab": {
          "base_uri": "https://localhost:8080/"
        },
        "id": "Nqr-zK9tU29V",
        "outputId": "da6109f7-462f-4019-a509-75f715e75a48"
      },
      "execution_count": null,
      "outputs": [
        {
          "output_type": "stream",
          "name": "stdout",
          "text": [
            "[1, 8, 27, 64, 125, 216, 343, 512, 729, 1000]\n"
          ]
        }
      ]
    },
    {
      "cell_type": "code",
      "source": [
        "#2\n",
        "a = [\"welcome\", \"to\", \"the\", \"python\", \"world\"]\n",
        "a = list(map(lambda x:x[0], a))\n",
        "print(a)\n"
      ],
      "metadata": {
        "colab": {
          "base_uri": "https://localhost:8080/"
        },
        "id": "GRM5W8v3VxXX",
        "outputId": "9a977fc7-18dd-45bc-8914-4cf210f553bf"
      },
      "execution_count": null,
      "outputs": [
        {
          "output_type": "stream",
          "name": "stdout",
          "text": [
            "['w', 't', 't', 'p', 'w']\n"
          ]
        }
      ]
    },
    {
      "cell_type": "code",
      "source": [
        "#LAB 10-6\n",
        "#1\n",
        "cubic = [x**3 for x in range(1,8)]\n",
        "print(\"cubic = \", cubic)"
      ],
      "metadata": {
        "colab": {
          "base_uri": "https://localhost:8080/"
        },
        "id": "-S9KLr8BZT00",
        "outputId": "ccd4d49b-3b0b-44b4-f316-3cf592d9b49b"
      },
      "execution_count": null,
      "outputs": [
        {
          "output_type": "stream",
          "name": "stdout",
          "text": [
            "cubic =  [1, 8, 27, 64, 125, 216, 343]\n"
          ]
        }
      ]
    },
    {
      "cell_type": "code",
      "source": [
        "#2\n",
        "st = 'Hello 1234 python'\n",
        "a = st[6:10]\n",
        "a = list(map(lambda x:x[0], a))\n",
        "print(a)"
      ],
      "metadata": {
        "colab": {
          "base_uri": "https://localhost:8080/"
        },
        "id": "BwPxoJSMbXIL",
        "outputId": "d907d5d4-5056-49b1-a5db-f1149e092286"
      },
      "execution_count": null,
      "outputs": [
        {
          "output_type": "stream",
          "name": "stdout",
          "text": [
            "['1', '2', '3', '4']\n"
          ]
        }
      ]
    },
    {
      "cell_type": "code",
      "source": [
        "#LAB 10-7\n",
        "#1\n",
        "class EvenCounter:\n",
        "  def __init__(self, n = 0):\n",
        "    self.n = n\n",
        "  def __iter__(self):\n",
        "    return self\n",
        "  def __next__(self):\n",
        "      if self.n < 10:\n",
        "        t = self.n\n",
        "        self.n += 2\n",
        "        return t\n",
        "      raise StopIteration\n",
        "  \n",
        "my_counter = EvenCounter()\n",
        "for x in my_counter:\n",
        "  print(x, end =' ')\n"
      ],
      "metadata": {
        "colab": {
          "base_uri": "https://localhost:8080/"
        },
        "id": "tYIlW-utgt3L",
        "outputId": "a04fe369-f79f-4422-f979-f8eeef1e1224"
      },
      "execution_count": null,
      "outputs": [
        {
          "output_type": "stream",
          "name": "stdout",
          "text": [
            "0 2 4 6 8 "
          ]
        }
      ]
    },
    {
      "cell_type": "code",
      "source": [
        "#2\n",
        "class EvenCounter:\n",
        "  def __init__(self, n = 0):\n",
        "    self.n = n\n",
        "  def __iter__(self):\n",
        "    return self\n",
        "  def __next__(self):\n",
        "      for self.n in range(0, 21):\n",
        "        t = self.n\n",
        "        return t\n",
        "      raise StopIteration\n",
        "  \n",
        "my_counter = EvenCounter()\n",
        "for x in my_counter:\n",
        "  print(x, end =' ')\n"
      ],
      "metadata": {
        "id": "4IuU2W_9hPqT"
      },
      "execution_count": null,
      "outputs": []
    },
    {
      "cell_type": "markdown",
      "source": [
        "#LAB 10-8\n",
        "#1\n",
        "['Welcome', 'to', 'Busan', 'Metropolian', 'City']\n",
        "\n",
        "#2\n",
        "\n",
        "['Hello', 'My name is DongMin', 'Good to see you again']\n",
        "\n"
      ],
      "metadata": {
        "id": "Mc5cNbt5jVNq"
      }
    },
    {
      "cell_type": "code",
      "source": [
        "#3\n",
        "fruits = ['Apple', 'Banana', 'Melon', 'Orange']\n",
        "fruits.split('|')"
      ],
      "metadata": {
        "id": "juGIe482i1oQ"
      },
      "execution_count": null,
      "outputs": []
    }
  ]
}